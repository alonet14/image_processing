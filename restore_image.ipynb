{
 "cells": [
  {
   "cell_type": "markdown",
   "metadata": {},
   "source": []
  },
  {
   "cell_type": "code",
   "execution_count": null,
   "metadata": {},
   "outputs": [],
   "source": []
  },
  {
   "cell_type": "code",
   "execution_count": null,
   "metadata": {},
   "outputs": [],
   "source": [
    "from add_noise import SaltAndPeperNoise\n",
    "import cv2\n",
    "from config import Flag\n",
    "import matplotlib.pyplot as plt\n",
    "\n",
    "\n",
    "prefix = Flag.image_origin\n",
    "file_name = prefix / 'banana.jpg'\n",
    "\n",
    "saltAndPeperNoise = SaltAndPeperNoise(str(file_name), s_vs_p=1, amount=0.1)\n",
    "sapn = saltAndPeperNoise.noise()\n",
    "# print(sapn)\n",
    "image_noise = sapn\n",
    "plt.imshow(sapn)"
   ]
  }
 ],
 "metadata": {
  "language_info": {
   "name": "python"
  },
  "orig_nbformat": 4
 },
 "nbformat": 4,
 "nbformat_minor": 2
}
